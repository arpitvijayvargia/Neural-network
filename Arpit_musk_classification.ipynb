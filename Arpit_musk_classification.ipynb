{
  "nbformat": 4,
  "nbformat_minor": 0,
  "metadata": {
    "colab": {
      "name": "Arpit_musk_classification.ipynb",
      "provenance": [],
      "include_colab_link": true
    },
    "kernelspec": {
      "name": "python3",
      "display_name": "Python 3"
    }
  },
  "cells": [
    {
      "cell_type": "markdown",
      "metadata": {
        "id": "view-in-github",
        "colab_type": "text"
      },
      "source": [
        "<a href=\"https://colab.research.google.com/github/arpitvijayvargia/Neural-network/blob/master/Arpit_musk_classification.ipynb\" target=\"_parent\"><img src=\"https://colab.research.google.com/assets/colab-badge.svg\" alt=\"Open In Colab\"/></a>"
      ]
    },
    {
      "cell_type": "code",
      "metadata": {
        "id": "vTuT1zLC-rI6",
        "colab_type": "code",
        "outputId": "02bbe4b2-590e-4fff-9009-4d56cde6acfa",
        "colab": {
          "base_uri": "https://localhost:8080/",
          "height": 83
        }
      },
      "source": [
        "#importing libraries that will be used during process\n",
        "from sklearn.metrics import confusion_matrix, precision_score\n",
        "from sklearn.model_selection import train_test_split\n",
        "from keras.layers import Dense,Dropout\n",
        "from keras.models import Sequential\n",
        "from keras.regularizers import l2\n",
        "import matplotlib.pyplot as plt\n",
        "import pandas as pd\n",
        "import numpy as np"
      ],
      "execution_count": 0,
      "outputs": [
        {
          "output_type": "stream",
          "text": [
            "Using TensorFlow backend.\n"
          ],
          "name": "stderr"
        },
        {
          "output_type": "display_data",
          "data": {
            "text/html": [
              "<p style=\"color: red;\">\n",
              "The default version of TensorFlow in Colab will soon switch to TensorFlow 2.x.<br>\n",
              "We recommend you <a href=\"https://www.tensorflow.org/guide/migrate\" target=\"_blank\">upgrade</a> now \n",
              "or ensure your notebook will continue to use TensorFlow 1.x via the <code>%tensorflow_version 1.x</code> magic:\n",
              "<a href=\"https://colab.research.google.com/notebooks/tensorflow_version.ipynb\" target=\"_blank\">more info</a>.</p>\n"
            ],
            "text/plain": [
              "<IPython.core.display.HTML object>"
            ]
          },
          "metadata": {
            "tags": []
          }
        }
      ]
    },
    {
      "cell_type": "code",
      "metadata": {
        "id": "IIEso82s-wmW",
        "colab_type": "code",
        "outputId": "e31ce696-88a2-4544-a62d-5da0f521b6a9",
        "colab": {
          "base_uri": "https://localhost:8080/",
          "height": 35
        }
      },
      "source": [
        "#mounting drive to load our data\n",
        "from google.colab import drive\n",
        "drive.mount('/content/drive')"
      ],
      "execution_count": 0,
      "outputs": [
        {
          "output_type": "stream",
          "text": [
            "Drive already mounted at /content/drive; to attempt to forcibly remount, call drive.mount(\"/content/drive\", force_remount=True).\n"
          ],
          "name": "stdout"
        }
      ]
    },
    {
      "cell_type": "code",
      "metadata": {
        "id": "FxP5_YKi-1zi",
        "colab_type": "code",
        "colab": {}
      },
      "source": [
        "#importing data from the drive using pandas\n",
        "data = pd.read_csv('/content/drive/My Drive/musk_csv.csv')"
      ],
      "execution_count": 0,
      "outputs": []
    },
    {
      "cell_type": "code",
      "metadata": {
        "id": "L8D4f3c2_Dk-",
        "colab_type": "code",
        "outputId": "cc118554-dad8-4025-a1ce-3fdf4d133fc6",
        "colab": {
          "base_uri": "https://localhost:8080/",
          "height": 35
        }
      },
      "source": [
        "#removing NAN values from the data\n",
        "data = data.apply (pd.to_numeric, errors='coerce')\n",
        "#let's see the sahpe of our data\n",
        "data.shape"
      ],
      "execution_count": 0,
      "outputs": [
        {
          "output_type": "execute_result",
          "data": {
            "text/plain": [
              "(6598, 170)"
            ]
          },
          "metadata": {
            "tags": []
          },
          "execution_count": 4
        }
      ]
    },
    {
      "cell_type": "code",
      "metadata": {
        "id": "eCX3LKZhFQfS",
        "colab_type": "code",
        "outputId": "e3b2e5f9-b854-4b73-cc59-9673239cdfbf",
        "colab": {
          "base_uri": "https://localhost:8080/",
          "height": 247
        }
      },
      "source": [
        "#let's see few rows our data\n",
        "data.head()"
      ],
      "execution_count": 0,
      "outputs": [
        {
          "output_type": "execute_result",
          "data": {
            "text/html": [
              "<div>\n",
              "<style scoped>\n",
              "    .dataframe tbody tr th:only-of-type {\n",
              "        vertical-align: middle;\n",
              "    }\n",
              "\n",
              "    .dataframe tbody tr th {\n",
              "        vertical-align: top;\n",
              "    }\n",
              "\n",
              "    .dataframe thead th {\n",
              "        text-align: right;\n",
              "    }\n",
              "</style>\n",
              "<table border=\"1\" class=\"dataframe\">\n",
              "  <thead>\n",
              "    <tr style=\"text-align: right;\">\n",
              "      <th></th>\n",
              "      <th>ID</th>\n",
              "      <th>molecule_name</th>\n",
              "      <th>conformation_name</th>\n",
              "      <th>f1</th>\n",
              "      <th>f2</th>\n",
              "      <th>f3</th>\n",
              "      <th>f4</th>\n",
              "      <th>f5</th>\n",
              "      <th>f6</th>\n",
              "      <th>f7</th>\n",
              "      <th>f8</th>\n",
              "      <th>f9</th>\n",
              "      <th>f10</th>\n",
              "      <th>f11</th>\n",
              "      <th>f12</th>\n",
              "      <th>f13</th>\n",
              "      <th>f14</th>\n",
              "      <th>f15</th>\n",
              "      <th>f16</th>\n",
              "      <th>f17</th>\n",
              "      <th>f18</th>\n",
              "      <th>f19</th>\n",
              "      <th>f20</th>\n",
              "      <th>f21</th>\n",
              "      <th>f22</th>\n",
              "      <th>f23</th>\n",
              "      <th>f24</th>\n",
              "      <th>f25</th>\n",
              "      <th>f26</th>\n",
              "      <th>f27</th>\n",
              "      <th>f28</th>\n",
              "      <th>f29</th>\n",
              "      <th>f30</th>\n",
              "      <th>f31</th>\n",
              "      <th>f32</th>\n",
              "      <th>f33</th>\n",
              "      <th>f34</th>\n",
              "      <th>f35</th>\n",
              "      <th>f36</th>\n",
              "      <th>f37</th>\n",
              "      <th>...</th>\n",
              "      <th>f128</th>\n",
              "      <th>f129</th>\n",
              "      <th>f130</th>\n",
              "      <th>f131</th>\n",
              "      <th>f132</th>\n",
              "      <th>f133</th>\n",
              "      <th>f134</th>\n",
              "      <th>f135</th>\n",
              "      <th>f136</th>\n",
              "      <th>f137</th>\n",
              "      <th>f138</th>\n",
              "      <th>f139</th>\n",
              "      <th>f140</th>\n",
              "      <th>f141</th>\n",
              "      <th>f142</th>\n",
              "      <th>f143</th>\n",
              "      <th>f144</th>\n",
              "      <th>f145</th>\n",
              "      <th>f146</th>\n",
              "      <th>f147</th>\n",
              "      <th>f148</th>\n",
              "      <th>f149</th>\n",
              "      <th>f150</th>\n",
              "      <th>f151</th>\n",
              "      <th>f152</th>\n",
              "      <th>f153</th>\n",
              "      <th>f154</th>\n",
              "      <th>f155</th>\n",
              "      <th>f156</th>\n",
              "      <th>f157</th>\n",
              "      <th>f158</th>\n",
              "      <th>f159</th>\n",
              "      <th>f160</th>\n",
              "      <th>f161</th>\n",
              "      <th>f162</th>\n",
              "      <th>f163</th>\n",
              "      <th>f164</th>\n",
              "      <th>f165</th>\n",
              "      <th>f166</th>\n",
              "      <th>class</th>\n",
              "    </tr>\n",
              "  </thead>\n",
              "  <tbody>\n",
              "    <tr>\n",
              "      <th>0</th>\n",
              "      <td>1</td>\n",
              "      <td>NaN</td>\n",
              "      <td>NaN</td>\n",
              "      <td>46</td>\n",
              "      <td>-108</td>\n",
              "      <td>-60</td>\n",
              "      <td>-69</td>\n",
              "      <td>-117</td>\n",
              "      <td>49</td>\n",
              "      <td>38</td>\n",
              "      <td>-161</td>\n",
              "      <td>-8</td>\n",
              "      <td>5</td>\n",
              "      <td>-323</td>\n",
              "      <td>-220</td>\n",
              "      <td>-113</td>\n",
              "      <td>-299</td>\n",
              "      <td>-283</td>\n",
              "      <td>-307</td>\n",
              "      <td>-31</td>\n",
              "      <td>-106</td>\n",
              "      <td>-227</td>\n",
              "      <td>-42</td>\n",
              "      <td>-59</td>\n",
              "      <td>-22</td>\n",
              "      <td>-67</td>\n",
              "      <td>189</td>\n",
              "      <td>81</td>\n",
              "      <td>17</td>\n",
              "      <td>-27</td>\n",
              "      <td>-89</td>\n",
              "      <td>-67</td>\n",
              "      <td>105</td>\n",
              "      <td>-116</td>\n",
              "      <td>124</td>\n",
              "      <td>-106</td>\n",
              "      <td>5</td>\n",
              "      <td>-120</td>\n",
              "      <td>63</td>\n",
              "      <td>-165</td>\n",
              "      <td>...</td>\n",
              "      <td>81</td>\n",
              "      <td>-114</td>\n",
              "      <td>-187</td>\n",
              "      <td>45</td>\n",
              "      <td>-118</td>\n",
              "      <td>-75</td>\n",
              "      <td>-182</td>\n",
              "      <td>-234</td>\n",
              "      <td>-19</td>\n",
              "      <td>12</td>\n",
              "      <td>-13</td>\n",
              "      <td>-41</td>\n",
              "      <td>-119</td>\n",
              "      <td>-149</td>\n",
              "      <td>70</td>\n",
              "      <td>17</td>\n",
              "      <td>-20</td>\n",
              "      <td>-177</td>\n",
              "      <td>-101</td>\n",
              "      <td>-116</td>\n",
              "      <td>-14</td>\n",
              "      <td>-50</td>\n",
              "      <td>24</td>\n",
              "      <td>-81</td>\n",
              "      <td>-125</td>\n",
              "      <td>-114</td>\n",
              "      <td>-44</td>\n",
              "      <td>128</td>\n",
              "      <td>3</td>\n",
              "      <td>-244</td>\n",
              "      <td>-308</td>\n",
              "      <td>52</td>\n",
              "      <td>-7</td>\n",
              "      <td>39</td>\n",
              "      <td>126</td>\n",
              "      <td>156</td>\n",
              "      <td>-50</td>\n",
              "      <td>-112</td>\n",
              "      <td>96</td>\n",
              "      <td>1</td>\n",
              "    </tr>\n",
              "    <tr>\n",
              "      <th>1</th>\n",
              "      <td>2</td>\n",
              "      <td>NaN</td>\n",
              "      <td>NaN</td>\n",
              "      <td>41</td>\n",
              "      <td>-188</td>\n",
              "      <td>-145</td>\n",
              "      <td>22</td>\n",
              "      <td>-117</td>\n",
              "      <td>-6</td>\n",
              "      <td>57</td>\n",
              "      <td>-171</td>\n",
              "      <td>-39</td>\n",
              "      <td>-100</td>\n",
              "      <td>-319</td>\n",
              "      <td>-111</td>\n",
              "      <td>-228</td>\n",
              "      <td>-281</td>\n",
              "      <td>-281</td>\n",
              "      <td>-300</td>\n",
              "      <td>54</td>\n",
              "      <td>-149</td>\n",
              "      <td>-98</td>\n",
              "      <td>-196</td>\n",
              "      <td>-27</td>\n",
              "      <td>-22</td>\n",
              "      <td>2</td>\n",
              "      <td>75</td>\n",
              "      <td>49</td>\n",
              "      <td>-34</td>\n",
              "      <td>45</td>\n",
              "      <td>-91</td>\n",
              "      <td>32</td>\n",
              "      <td>95</td>\n",
              "      <td>-116</td>\n",
              "      <td>85</td>\n",
              "      <td>-23</td>\n",
              "      <td>42</td>\n",
              "      <td>-58</td>\n",
              "      <td>61</td>\n",
              "      <td>-171</td>\n",
              "      <td>...</td>\n",
              "      <td>88</td>\n",
              "      <td>-21</td>\n",
              "      <td>-32</td>\n",
              "      <td>32</td>\n",
              "      <td>-128</td>\n",
              "      <td>-72</td>\n",
              "      <td>-124</td>\n",
              "      <td>-218</td>\n",
              "      <td>-94</td>\n",
              "      <td>53</td>\n",
              "      <td>-79</td>\n",
              "      <td>-20</td>\n",
              "      <td>-35</td>\n",
              "      <td>-26</td>\n",
              "      <td>4</td>\n",
              "      <td>50</td>\n",
              "      <td>17</td>\n",
              "      <td>-177</td>\n",
              "      <td>-102</td>\n",
              "      <td>-121</td>\n",
              "      <td>-66</td>\n",
              "      <td>-77</td>\n",
              "      <td>51</td>\n",
              "      <td>-41</td>\n",
              "      <td>-34</td>\n",
              "      <td>-32</td>\n",
              "      <td>-63</td>\n",
              "      <td>115</td>\n",
              "      <td>-5</td>\n",
              "      <td>-235</td>\n",
              "      <td>-59</td>\n",
              "      <td>-2</td>\n",
              "      <td>52</td>\n",
              "      <td>103</td>\n",
              "      <td>136</td>\n",
              "      <td>169</td>\n",
              "      <td>-61</td>\n",
              "      <td>-136</td>\n",
              "      <td>79</td>\n",
              "      <td>1</td>\n",
              "    </tr>\n",
              "    <tr>\n",
              "      <th>2</th>\n",
              "      <td>3</td>\n",
              "      <td>NaN</td>\n",
              "      <td>NaN</td>\n",
              "      <td>46</td>\n",
              "      <td>-194</td>\n",
              "      <td>-145</td>\n",
              "      <td>28</td>\n",
              "      <td>-117</td>\n",
              "      <td>73</td>\n",
              "      <td>57</td>\n",
              "      <td>-168</td>\n",
              "      <td>-39</td>\n",
              "      <td>-22</td>\n",
              "      <td>-319</td>\n",
              "      <td>-111</td>\n",
              "      <td>-104</td>\n",
              "      <td>-283</td>\n",
              "      <td>-282</td>\n",
              "      <td>-303</td>\n",
              "      <td>52</td>\n",
              "      <td>-152</td>\n",
              "      <td>-97</td>\n",
              "      <td>-225</td>\n",
              "      <td>-28</td>\n",
              "      <td>-22</td>\n",
              "      <td>2</td>\n",
              "      <td>179</td>\n",
              "      <td>49</td>\n",
              "      <td>-33</td>\n",
              "      <td>46</td>\n",
              "      <td>-88</td>\n",
              "      <td>22</td>\n",
              "      <td>79</td>\n",
              "      <td>-116</td>\n",
              "      <td>19</td>\n",
              "      <td>-11</td>\n",
              "      <td>6</td>\n",
              "      <td>-38</td>\n",
              "      <td>71</td>\n",
              "      <td>-175</td>\n",
              "      <td>...</td>\n",
              "      <td>64</td>\n",
              "      <td>0</td>\n",
              "      <td>-23</td>\n",
              "      <td>-15</td>\n",
              "      <td>-129</td>\n",
              "      <td>-74</td>\n",
              "      <td>-125</td>\n",
              "      <td>-221</td>\n",
              "      <td>-93</td>\n",
              "      <td>53</td>\n",
              "      <td>-72</td>\n",
              "      <td>-19</td>\n",
              "      <td>-33</td>\n",
              "      <td>-26</td>\n",
              "      <td>3</td>\n",
              "      <td>49</td>\n",
              "      <td>17</td>\n",
              "      <td>-177</td>\n",
              "      <td>-102</td>\n",
              "      <td>-119</td>\n",
              "      <td>-66</td>\n",
              "      <td>-81</td>\n",
              "      <td>51</td>\n",
              "      <td>-41</td>\n",
              "      <td>-27</td>\n",
              "      <td>-41</td>\n",
              "      <td>-140</td>\n",
              "      <td>77</td>\n",
              "      <td>-163</td>\n",
              "      <td>-238</td>\n",
              "      <td>-134</td>\n",
              "      <td>-154</td>\n",
              "      <td>57</td>\n",
              "      <td>143</td>\n",
              "      <td>142</td>\n",
              "      <td>165</td>\n",
              "      <td>-67</td>\n",
              "      <td>-145</td>\n",
              "      <td>39</td>\n",
              "      <td>1</td>\n",
              "    </tr>\n",
              "    <tr>\n",
              "      <th>3</th>\n",
              "      <td>4</td>\n",
              "      <td>NaN</td>\n",
              "      <td>NaN</td>\n",
              "      <td>41</td>\n",
              "      <td>-188</td>\n",
              "      <td>-145</td>\n",
              "      <td>22</td>\n",
              "      <td>-117</td>\n",
              "      <td>-7</td>\n",
              "      <td>57</td>\n",
              "      <td>-170</td>\n",
              "      <td>-39</td>\n",
              "      <td>-99</td>\n",
              "      <td>-319</td>\n",
              "      <td>-111</td>\n",
              "      <td>-228</td>\n",
              "      <td>-282</td>\n",
              "      <td>-281</td>\n",
              "      <td>-301</td>\n",
              "      <td>54</td>\n",
              "      <td>-150</td>\n",
              "      <td>-98</td>\n",
              "      <td>-196</td>\n",
              "      <td>-28</td>\n",
              "      <td>-22</td>\n",
              "      <td>2</td>\n",
              "      <td>77</td>\n",
              "      <td>48</td>\n",
              "      <td>-34</td>\n",
              "      <td>46</td>\n",
              "      <td>-91</td>\n",
              "      <td>32</td>\n",
              "      <td>94</td>\n",
              "      <td>-116</td>\n",
              "      <td>84</td>\n",
              "      <td>-23</td>\n",
              "      <td>41</td>\n",
              "      <td>-58</td>\n",
              "      <td>62</td>\n",
              "      <td>-171</td>\n",
              "      <td>...</td>\n",
              "      <td>88</td>\n",
              "      <td>-20</td>\n",
              "      <td>-32</td>\n",
              "      <td>32</td>\n",
              "      <td>-128</td>\n",
              "      <td>-73</td>\n",
              "      <td>-125</td>\n",
              "      <td>-220</td>\n",
              "      <td>-93</td>\n",
              "      <td>53</td>\n",
              "      <td>-78</td>\n",
              "      <td>-19</td>\n",
              "      <td>-34</td>\n",
              "      <td>-26</td>\n",
              "      <td>4</td>\n",
              "      <td>50</td>\n",
              "      <td>17</td>\n",
              "      <td>-177</td>\n",
              "      <td>-101</td>\n",
              "      <td>-121</td>\n",
              "      <td>-65</td>\n",
              "      <td>-77</td>\n",
              "      <td>52</td>\n",
              "      <td>-41</td>\n",
              "      <td>-34</td>\n",
              "      <td>-32</td>\n",
              "      <td>-66</td>\n",
              "      <td>115</td>\n",
              "      <td>-7</td>\n",
              "      <td>-236</td>\n",
              "      <td>-60</td>\n",
              "      <td>-4</td>\n",
              "      <td>52</td>\n",
              "      <td>104</td>\n",
              "      <td>136</td>\n",
              "      <td>168</td>\n",
              "      <td>-60</td>\n",
              "      <td>-135</td>\n",
              "      <td>80</td>\n",
              "      <td>1</td>\n",
              "    </tr>\n",
              "    <tr>\n",
              "      <th>4</th>\n",
              "      <td>5</td>\n",
              "      <td>NaN</td>\n",
              "      <td>NaN</td>\n",
              "      <td>41</td>\n",
              "      <td>-188</td>\n",
              "      <td>-145</td>\n",
              "      <td>22</td>\n",
              "      <td>-117</td>\n",
              "      <td>-7</td>\n",
              "      <td>57</td>\n",
              "      <td>-170</td>\n",
              "      <td>-39</td>\n",
              "      <td>-99</td>\n",
              "      <td>-319</td>\n",
              "      <td>-111</td>\n",
              "      <td>-228</td>\n",
              "      <td>-282</td>\n",
              "      <td>-281</td>\n",
              "      <td>-301</td>\n",
              "      <td>54</td>\n",
              "      <td>-150</td>\n",
              "      <td>-98</td>\n",
              "      <td>-196</td>\n",
              "      <td>-28</td>\n",
              "      <td>-22</td>\n",
              "      <td>2</td>\n",
              "      <td>78</td>\n",
              "      <td>48</td>\n",
              "      <td>-34</td>\n",
              "      <td>46</td>\n",
              "      <td>-91</td>\n",
              "      <td>31</td>\n",
              "      <td>94</td>\n",
              "      <td>-116</td>\n",
              "      <td>84</td>\n",
              "      <td>-23</td>\n",
              "      <td>41</td>\n",
              "      <td>-58</td>\n",
              "      <td>62</td>\n",
              "      <td>-171</td>\n",
              "      <td>...</td>\n",
              "      <td>88</td>\n",
              "      <td>-20</td>\n",
              "      <td>-32</td>\n",
              "      <td>32</td>\n",
              "      <td>-128</td>\n",
              "      <td>-73</td>\n",
              "      <td>-125</td>\n",
              "      <td>-220</td>\n",
              "      <td>-93</td>\n",
              "      <td>53</td>\n",
              "      <td>-78</td>\n",
              "      <td>-19</td>\n",
              "      <td>-34</td>\n",
              "      <td>-26</td>\n",
              "      <td>4</td>\n",
              "      <td>50</td>\n",
              "      <td>17</td>\n",
              "      <td>-177</td>\n",
              "      <td>-101</td>\n",
              "      <td>-121</td>\n",
              "      <td>-65</td>\n",
              "      <td>-76</td>\n",
              "      <td>52</td>\n",
              "      <td>-41</td>\n",
              "      <td>-34</td>\n",
              "      <td>-32</td>\n",
              "      <td>-66</td>\n",
              "      <td>115</td>\n",
              "      <td>-8</td>\n",
              "      <td>-236</td>\n",
              "      <td>-60</td>\n",
              "      <td>-4</td>\n",
              "      <td>52</td>\n",
              "      <td>104</td>\n",
              "      <td>137</td>\n",
              "      <td>168</td>\n",
              "      <td>-60</td>\n",
              "      <td>-135</td>\n",
              "      <td>80</td>\n",
              "      <td>1</td>\n",
              "    </tr>\n",
              "  </tbody>\n",
              "</table>\n",
              "<p>5 rows × 170 columns</p>\n",
              "</div>"
            ],
            "text/plain": [
              "   ID  molecule_name  conformation_name  f1   f2  ...  f163  f164  f165  f166  class\n",
              "0   1            NaN                NaN  46 -108  ...   156   -50  -112    96      1\n",
              "1   2            NaN                NaN  41 -188  ...   169   -61  -136    79      1\n",
              "2   3            NaN                NaN  46 -194  ...   165   -67  -145    39      1\n",
              "3   4            NaN                NaN  41 -188  ...   168   -60  -135    80      1\n",
              "4   5            NaN                NaN  41 -188  ...   168   -60  -135    80      1\n",
              "\n",
              "[5 rows x 170 columns]"
            ]
          },
          "metadata": {
            "tags": []
          },
          "execution_count": 5
        }
      ]
    },
    {
      "cell_type": "code",
      "metadata": {
        "id": "A5t8HGQF_G-P",
        "colab_type": "code",
        "colab": {}
      },
      "source": [
        "#let's find out how much data belong to 'musk' class\n",
        "over_all_musk = pd.DataFrame(data[data['class'] == 1])"
      ],
      "execution_count": 0,
      "outputs": []
    },
    {
      "cell_type": "code",
      "metadata": {
        "id": "ZJXINTkB_TKU",
        "colab_type": "code",
        "outputId": "813b1483-5ca3-4a9f-a0d1-c8e5a9ce2059",
        "colab": {
          "base_uri": "https://localhost:8080/",
          "height": 35
        }
      },
      "source": [
        "over_all_musk.shape"
      ],
      "execution_count": 0,
      "outputs": [
        {
          "output_type": "execute_result",
          "data": {
            "text/plain": [
              "(1017, 170)"
            ]
          },
          "metadata": {
            "tags": []
          },
          "execution_count": 7
        }
      ]
    },
    {
      "cell_type": "code",
      "metadata": {
        "id": "iu8FNiOr_VlH",
        "colab_type": "code",
        "colab": {}
      },
      "source": [
        "#let's see how much data belong's to 'non-musk' class\n",
        "over_all_non_musk = pd.DataFrame(data[data['class'] == 0])"
      ],
      "execution_count": 0,
      "outputs": []
    },
    {
      "cell_type": "code",
      "metadata": {
        "id": "VQtI8Rqk_aDk",
        "colab_type": "code",
        "outputId": "3b7a1b77-2773-45d9-a561-aa51056fdcd7",
        "colab": {
          "base_uri": "https://localhost:8080/",
          "height": 35
        }
      },
      "source": [
        "over_all_non_musk.shape"
      ],
      "execution_count": 0,
      "outputs": [
        {
          "output_type": "execute_result",
          "data": {
            "text/plain": [
              "(5581, 170)"
            ]
          },
          "metadata": {
            "tags": []
          },
          "execution_count": 9
        }
      ]
    },
    {
      "cell_type": "markdown",
      "metadata": {
        "id": "uhTn622o_jJm",
        "colab_type": "text"
      },
      "source": [
        "From above we can clearly see that our data is biased i.e only approx 15% of data is of one class"
      ]
    },
    {
      "cell_type": "markdown",
      "metadata": {
        "id": "T99CfpEDAdy5",
        "colab_type": "text"
      },
      "source": [
        "So, now we will take equal number of rows for each class to improve our model performance\n"
      ]
    },
    {
      "cell_type": "code",
      "metadata": {
        "id": "iKQTVQ7F_ztF",
        "colab_type": "code",
        "colab": {}
      },
      "source": [
        "over_all_non_musk =  over_all_non_musk[0:1017]"
      ],
      "execution_count": 0,
      "outputs": []
    },
    {
      "cell_type": "code",
      "metadata": {
        "id": "mz93N1Y9_59Z",
        "colab_type": "code",
        "colab": {}
      },
      "source": [
        "#joing both data using concat function in pandas\n",
        "data = pd.concat([over_all_musk,over_all_non_musk], axis=0)"
      ],
      "execution_count": 0,
      "outputs": []
    },
    {
      "cell_type": "code",
      "metadata": {
        "id": "hcc_bvo2B4lG",
        "colab_type": "code",
        "colab": {}
      },
      "source": [
        "#let's shuffle our data\n",
        "from sklearn.utils import shuffle\n",
        "data = shuffle(data)"
      ],
      "execution_count": 0,
      "outputs": []
    },
    {
      "cell_type": "code",
      "metadata": {
        "id": "yfzPbBvKAZNZ",
        "colab_type": "code",
        "colab": {}
      },
      "source": [
        "#let's drop the unwanted columns which we not be using during our process\n",
        "data.drop(['molecule_name','conformation_name'], axis = 1 , inplace= True)"
      ],
      "execution_count": 0,
      "outputs": []
    },
    {
      "cell_type": "code",
      "metadata": {
        "id": "gEn8dMoZAp0Z",
        "colab_type": "code",
        "colab": {}
      },
      "source": [
        "#Seperate the input feature and target variables\n",
        "x = data.drop(columns=['class'])\n",
        "y = data['class']"
      ],
      "execution_count": 0,
      "outputs": []
    },
    {
      "cell_type": "code",
      "metadata": {
        "id": "cXxJZYDkAsL-",
        "colab_type": "code",
        "colab": {}
      },
      "source": [
        "#Splitting our data using train_test_split 80% training, 20% testing\n",
        "x_train, x_test, y_train, y_test = train_test_split(x,y, test_size=0.20, random_state=0)"
      ],
      "execution_count": 0,
      "outputs": []
    },
    {
      "cell_type": "code",
      "metadata": {
        "id": "wH6_ILHWAufM",
        "colab_type": "code",
        "outputId": "2e60dbed-12a0-492a-bc0d-d8d13349e78e",
        "colab": {
          "base_uri": "https://localhost:8080/",
          "height": 35
        }
      },
      "source": [
        "#Let's have a glance towards the shape of our data\n",
        "x_train.shape,y_train.shape,x_test.shape,y_test.shape"
      ],
      "execution_count": 0,
      "outputs": [
        {
          "output_type": "execute_result",
          "data": {
            "text/plain": [
              "((1627, 167), (1627,), (407, 167), (407,))"
            ]
          },
          "metadata": {
            "tags": []
          },
          "execution_count": 16
        }
      ]
    },
    {
      "cell_type": "code",
      "metadata": {
        "id": "Da5f1z-hAwYC",
        "colab_type": "code",
        "outputId": "19f6f16b-17bf-4943-a819-7d64b4d361ea",
        "colab": {
          "base_uri": "https://localhost:8080/",
          "height": 237
        }
      },
      "source": [
        "#Define the Model - 3 layers (2 hidden layers with 100 nodes each and 1 output layer with a single)\n",
        "\n",
        "#defifne a sequentail Model\n",
        "model = Sequential()\n",
        "\n",
        "#Hidden Layer-1\n",
        "model.add(Dense(100,activation='relu',input_dim=167,kernel_regularizer=l2(0.02)))\n",
        "model.add(Dropout(0.3, noise_shape=None, seed=None))\n",
        "\n",
        "#Hidden Layer-2\n",
        "model.add(Dense(100,activation = 'relu',kernel_regularizer=l2(0.01)))\n",
        "model.add(Dropout(0.3, noise_shape=None, seed=None))\n",
        "\n",
        "#Output layer\n",
        "model.add(Dense(1,activation='sigmoid'))"
      ],
      "execution_count": 0,
      "outputs": [
        {
          "output_type": "stream",
          "text": [
            "WARNING:tensorflow:From /usr/local/lib/python3.6/dist-packages/keras/backend/tensorflow_backend.py:66: The name tf.get_default_graph is deprecated. Please use tf.compat.v1.get_default_graph instead.\n",
            "\n",
            "WARNING:tensorflow:From /usr/local/lib/python3.6/dist-packages/keras/backend/tensorflow_backend.py:541: The name tf.placeholder is deprecated. Please use tf.compat.v1.placeholder instead.\n",
            "\n",
            "WARNING:tensorflow:From /usr/local/lib/python3.6/dist-packages/keras/backend/tensorflow_backend.py:4432: The name tf.random_uniform is deprecated. Please use tf.random.uniform instead.\n",
            "\n",
            "WARNING:tensorflow:From /usr/local/lib/python3.6/dist-packages/keras/backend/tensorflow_backend.py:148: The name tf.placeholder_with_default is deprecated. Please use tf.compat.v1.placeholder_with_default instead.\n",
            "\n",
            "WARNING:tensorflow:From /usr/local/lib/python3.6/dist-packages/keras/backend/tensorflow_backend.py:3733: calling dropout (from tensorflow.python.ops.nn_ops) with keep_prob is deprecated and will be removed in a future version.\n",
            "Instructions for updating:\n",
            "Please use `rate` instead of `keep_prob`. Rate should be set to `rate = 1 - keep_prob`.\n"
          ],
          "name": "stdout"
        }
      ]
    },
    {
      "cell_type": "code",
      "metadata": {
        "id": "yKD73SD9AypC",
        "colab_type": "code",
        "outputId": "c76425a8-eaeb-400b-909e-ff826842d36c",
        "colab": {
          "base_uri": "https://localhost:8080/",
          "height": 165
        }
      },
      "source": [
        "#compiling the model\n",
        "model.compile(loss='binary_crossentropy',optimizer='adam',metrics=['accuracy'])"
      ],
      "execution_count": 0,
      "outputs": [
        {
          "output_type": "stream",
          "text": [
            "WARNING:tensorflow:From /usr/local/lib/python3.6/dist-packages/keras/optimizers.py:793: The name tf.train.Optimizer is deprecated. Please use tf.compat.v1.train.Optimizer instead.\n",
            "\n",
            "WARNING:tensorflow:From /usr/local/lib/python3.6/dist-packages/keras/backend/tensorflow_backend.py:3657: The name tf.log is deprecated. Please use tf.math.log instead.\n",
            "\n",
            "WARNING:tensorflow:From /usr/local/lib/python3.6/dist-packages/tensorflow_core/python/ops/nn_impl.py:183: where (from tensorflow.python.ops.array_ops) is deprecated and will be removed in a future version.\n",
            "Instructions for updating:\n",
            "Use tf.where in 2.0, which has the same broadcast rule as np.where\n"
          ],
          "name": "stdout"
        }
      ]
    },
    {
      "cell_type": "code",
      "metadata": {
        "id": "s0j_jtcJA1TK",
        "colab_type": "code",
        "outputId": "8465fb0b-3969-4b93-9ab3-e5abc2010aad",
        "colab": {
          "base_uri": "https://localhost:8080/",
          "height": 345
        }
      },
      "source": [
        "#Let's check the model summary\n",
        "model.summary()"
      ],
      "execution_count": 0,
      "outputs": [
        {
          "output_type": "stream",
          "text": [
            "Model: \"sequential_1\"\n",
            "_________________________________________________________________\n",
            "Layer (type)                 Output Shape              Param #   \n",
            "=================================================================\n",
            "dense_1 (Dense)              (None, 100)               16800     \n",
            "_________________________________________________________________\n",
            "dropout_1 (Dropout)          (None, 100)               0         \n",
            "_________________________________________________________________\n",
            "dense_2 (Dense)              (None, 100)               10100     \n",
            "_________________________________________________________________\n",
            "dropout_2 (Dropout)          (None, 100)               0         \n",
            "_________________________________________________________________\n",
            "dense_3 (Dense)              (None, 1)                 101       \n",
            "=================================================================\n",
            "Total params: 27,001\n",
            "Trainable params: 27,001\n",
            "Non-trainable params: 0\n",
            "_________________________________________________________________\n"
          ],
          "name": "stdout"
        }
      ]
    },
    {
      "cell_type": "code",
      "metadata": {
        "id": "8S41m0ShA4Bh",
        "colab_type": "code",
        "outputId": "2a286a3e-25fe-4166-b212-1697bd88db73",
        "colab": {
          "base_uri": "https://localhost:8080/",
          "height": 1000
        }
      },
      "source": [
        "#Let's train our model\n",
        "model_output = model.fit(x_train,y_train,epochs=50,batch_size=5,verbose=1,validation_data=(x_test,y_test),)"
      ],
      "execution_count": 0,
      "outputs": [
        {
          "output_type": "stream",
          "text": [
            "WARNING:tensorflow:From /usr/local/lib/python3.6/dist-packages/keras/backend/tensorflow_backend.py:1033: The name tf.assign_add is deprecated. Please use tf.compat.v1.assign_add instead.\n",
            "\n",
            "WARNING:tensorflow:From /usr/local/lib/python3.6/dist-packages/keras/backend/tensorflow_backend.py:1020: The name tf.assign is deprecated. Please use tf.compat.v1.assign instead.\n",
            "\n",
            "WARNING:tensorflow:From /usr/local/lib/python3.6/dist-packages/keras/backend/tensorflow_backend.py:3005: The name tf.Session is deprecated. Please use tf.compat.v1.Session instead.\n",
            "\n",
            "Train on 1627 samples, validate on 407 samples\n",
            "Epoch 1/50\n",
            "WARNING:tensorflow:From /usr/local/lib/python3.6/dist-packages/keras/backend/tensorflow_backend.py:190: The name tf.get_default_session is deprecated. Please use tf.compat.v1.get_default_session instead.\n",
            "\n",
            "WARNING:tensorflow:From /usr/local/lib/python3.6/dist-packages/keras/backend/tensorflow_backend.py:197: The name tf.ConfigProto is deprecated. Please use tf.compat.v1.ConfigProto instead.\n",
            "\n",
            "WARNING:tensorflow:From /usr/local/lib/python3.6/dist-packages/keras/backend/tensorflow_backend.py:207: The name tf.global_variables is deprecated. Please use tf.compat.v1.global_variables instead.\n",
            "\n",
            "WARNING:tensorflow:From /usr/local/lib/python3.6/dist-packages/keras/backend/tensorflow_backend.py:216: The name tf.is_variable_initialized is deprecated. Please use tf.compat.v1.is_variable_initialized instead.\n",
            "\n",
            "WARNING:tensorflow:From /usr/local/lib/python3.6/dist-packages/keras/backend/tensorflow_backend.py:223: The name tf.variables_initializer is deprecated. Please use tf.compat.v1.variables_initializer instead.\n",
            "\n",
            "1627/1627 [==============================] - 1s 596us/step - loss: 6.3728 - acc: 0.7357 - val_loss: 2.9151 - val_acc: 0.9509\n",
            "Epoch 2/50\n",
            "1627/1627 [==============================] - 1s 395us/step - loss: 5.0931 - acc: 0.8076 - val_loss: 3.3820 - val_acc: 0.9189\n",
            "Epoch 3/50\n",
            "1627/1627 [==============================] - 1s 380us/step - loss: 3.7042 - acc: 0.8943 - val_loss: 2.6350 - val_acc: 0.9607\n",
            "Epoch 4/50\n",
            "1627/1627 [==============================] - 1s 379us/step - loss: 3.0355 - acc: 0.9305 - val_loss: 2.0023 - val_acc: 0.9926\n",
            "Epoch 5/50\n",
            "1627/1627 [==============================] - 1s 373us/step - loss: 4.0520 - acc: 0.8593 - val_loss: 6.5893 - val_acc: 0.6978\n",
            "Epoch 6/50\n",
            "1627/1627 [==============================] - 1s 374us/step - loss: 4.3219 - acc: 0.8420 - val_loss: 2.3801 - val_acc: 0.9656\n",
            "Epoch 7/50\n",
            "1627/1627 [==============================] - 1s 373us/step - loss: 3.3884 - acc: 0.8992 - val_loss: 2.2219 - val_acc: 0.9705\n",
            "Epoch 8/50\n",
            "1627/1627 [==============================] - 1s 376us/step - loss: 3.0282 - acc: 0.9164 - val_loss: 1.6989 - val_acc: 0.9975\n",
            "Epoch 9/50\n",
            "1627/1627 [==============================] - 1s 379us/step - loss: 3.9125 - acc: 0.8556 - val_loss: 1.6138 - val_acc: 0.9975\n",
            "Epoch 10/50\n",
            "1627/1627 [==============================] - 1s 375us/step - loss: 2.8108 - acc: 0.9201 - val_loss: 1.7615 - val_acc: 0.9853\n",
            "Epoch 11/50\n",
            "1627/1627 [==============================] - 1s 378us/step - loss: 2.8228 - acc: 0.9164 - val_loss: 4.1136 - val_acc: 0.8354\n",
            "Epoch 12/50\n",
            "1627/1627 [==============================] - 1s 376us/step - loss: 2.8482 - acc: 0.9121 - val_loss: 1.6178 - val_acc: 0.9877\n",
            "Epoch 13/50\n",
            "1627/1627 [==============================] - 1s 388us/step - loss: 2.0124 - acc: 0.9613 - val_loss: 2.9069 - val_acc: 0.9042\n",
            "Epoch 14/50\n",
            "1627/1627 [==============================] - 1s 382us/step - loss: 2.6864 - acc: 0.9176 - val_loss: 2.3529 - val_acc: 0.9361\n",
            "Epoch 15/50\n",
            "1627/1627 [==============================] - 1s 374us/step - loss: 2.0536 - acc: 0.9545 - val_loss: 1.3823 - val_acc: 0.9975\n",
            "Epoch 16/50\n",
            "1627/1627 [==============================] - 1s 376us/step - loss: 1.8679 - acc: 0.9656 - val_loss: 1.7054 - val_acc: 0.9754\n",
            "Epoch 17/50\n",
            "1627/1627 [==============================] - 1s 378us/step - loss: 1.9639 - acc: 0.9570 - val_loss: 1.6330 - val_acc: 0.9754\n",
            "Epoch 18/50\n",
            "1627/1627 [==============================] - 1s 380us/step - loss: 1.7712 - acc: 0.9637 - val_loss: 1.3600 - val_acc: 0.9853\n",
            "Epoch 19/50\n",
            "1627/1627 [==============================] - 1s 372us/step - loss: 1.4164 - acc: 0.9822 - val_loss: 1.1772 - val_acc: 0.9951\n",
            "Epoch 20/50\n",
            "1627/1627 [==============================] - 1s 378us/step - loss: 1.2209 - acc: 0.9902 - val_loss: 1.1068 - val_acc: 0.9951\n",
            "Epoch 21/50\n",
            "1627/1627 [==============================] - 1s 383us/step - loss: 3.0832 - acc: 0.8715 - val_loss: 4.1607 - val_acc: 0.8010\n",
            "Epoch 22/50\n",
            "1627/1627 [==============================] - 1s 378us/step - loss: 1.3883 - acc: 0.9748 - val_loss: 1.0016 - val_acc: 0.9975\n",
            "Epoch 23/50\n",
            "1627/1627 [==============================] - 1s 375us/step - loss: 2.0775 - acc: 0.9312 - val_loss: 1.2925 - val_acc: 0.9828\n",
            "Epoch 24/50\n",
            "1627/1627 [==============================] - 1s 381us/step - loss: 4.0710 - acc: 0.8082 - val_loss: 6.1089 - val_acc: 0.6806\n",
            "Epoch 25/50\n",
            "1627/1627 [==============================] - 1s 373us/step - loss: 1.6794 - acc: 0.9570 - val_loss: 1.3035 - val_acc: 0.9828\n",
            "Epoch 26/50\n",
            "1627/1627 [==============================] - 1s 376us/step - loss: 1.6794 - acc: 0.9570 - val_loss: 1.1126 - val_acc: 0.9926\n",
            "Epoch 27/50\n",
            "1627/1627 [==============================] - 1s 383us/step - loss: 1.4854 - acc: 0.9674 - val_loss: 2.0513 - val_acc: 0.9312\n",
            "Epoch 28/50\n",
            "1627/1627 [==============================] - 1s 374us/step - loss: 2.6378 - acc: 0.8931 - val_loss: 1.6614 - val_acc: 0.9533\n",
            "Epoch 29/50\n",
            "1627/1627 [==============================] - 1s 376us/step - loss: 1.3127 - acc: 0.9748 - val_loss: 1.2687 - val_acc: 0.9779\n",
            "Epoch 30/50\n",
            "1627/1627 [==============================] - 1s 371us/step - loss: 3.2115 - acc: 0.8562 - val_loss: 1.1380 - val_acc: 0.9877\n",
            "Epoch 31/50\n",
            "1627/1627 [==============================] - 1s 394us/step - loss: 1.4397 - acc: 0.9674 - val_loss: 1.0297 - val_acc: 0.9926\n",
            "Epoch 32/50\n",
            "1627/1627 [==============================] - 1s 377us/step - loss: 2.4678 - acc: 0.9023 - val_loss: 1.0149 - val_acc: 0.9926\n",
            "Epoch 33/50\n",
            "1627/1627 [==============================] - 1s 388us/step - loss: 1.3504 - acc: 0.9723 - val_loss: 0.9354 - val_acc: 0.9975\n",
            "Epoch 34/50\n",
            "1627/1627 [==============================] - 1s 387us/step - loss: 1.2623 - acc: 0.9760 - val_loss: 0.8661 - val_acc: 1.0000\n",
            "Epoch 35/50\n",
            "1627/1627 [==============================] - 1s 388us/step - loss: 1.8960 - acc: 0.9348 - val_loss: 4.9128 - val_acc: 0.7469\n",
            "Epoch 36/50\n",
            "1627/1627 [==============================] - 1s 387us/step - loss: 1.8261 - acc: 0.9398 - val_loss: 1.4077 - val_acc: 0.9631\n",
            "Epoch 37/50\n",
            "1627/1627 [==============================] - 1s 390us/step - loss: 2.0844 - acc: 0.9232 - val_loss: 2.0398 - val_acc: 0.9238\n",
            "Epoch 38/50\n",
            "1627/1627 [==============================] - 1s 392us/step - loss: 1.7124 - acc: 0.9459 - val_loss: 1.1092 - val_acc: 0.9828\n",
            "Epoch 39/50\n",
            "1627/1627 [==============================] - 1s 393us/step - loss: 1.7203 - acc: 0.9447 - val_loss: 1.0235 - val_acc: 0.9902\n",
            "Epoch 40/50\n",
            "1627/1627 [==============================] - 1s 396us/step - loss: 1.0181 - acc: 0.9896 - val_loss: 0.9923 - val_acc: 0.9902\n",
            "Epoch 41/50\n",
            "1627/1627 [==============================] - 1s 393us/step - loss: 1.0164 - acc: 0.9877 - val_loss: 0.9606 - val_acc: 0.9902\n",
            "Epoch 42/50\n",
            "1627/1627 [==============================] - 1s 387us/step - loss: 0.9238 - acc: 0.9914 - val_loss: 0.9259 - val_acc: 0.9902\n",
            "Epoch 43/50\n",
            "1627/1627 [==============================] - 1s 394us/step - loss: 1.0464 - acc: 0.9816 - val_loss: 0.8895 - val_acc: 0.9902\n",
            "Epoch 44/50\n",
            "1627/1627 [==============================] - 1s 383us/step - loss: 0.9705 - acc: 0.9840 - val_loss: 0.8525 - val_acc: 0.9902\n",
            "Epoch 45/50\n",
            "1627/1627 [==============================] - 1s 387us/step - loss: 1.2522 - acc: 0.9656 - val_loss: 1.0225 - val_acc: 0.9803\n",
            "Epoch 46/50\n",
            "1627/1627 [==============================] - 1s 396us/step - loss: 1.3055 - acc: 0.9613 - val_loss: 0.6656 - val_acc: 1.0000\n",
            "Epoch 47/50\n",
            "1627/1627 [==============================] - 1s 385us/step - loss: 1.6023 - acc: 0.9410 - val_loss: 1.0386 - val_acc: 0.9803\n",
            "Epoch 48/50\n",
            "1627/1627 [==============================] - 1s 401us/step - loss: 1.7830 - acc: 0.9318 - val_loss: 1.0619 - val_acc: 0.9779\n",
            "Epoch 49/50\n",
            "1627/1627 [==============================] - 1s 399us/step - loss: 2.9242 - acc: 0.8599 - val_loss: 0.7976 - val_acc: 0.9926\n",
            "Epoch 50/50\n",
            "1627/1627 [==============================] - 1s 376us/step - loss: 0.9107 - acc: 0.9846 - val_loss: 0.7289 - val_acc: 0.9951\n"
          ],
          "name": "stdout"
        }
      ]
    },
    {
      "cell_type": "code",
      "metadata": {
        "id": "DwrW5VAcA6rR",
        "colab_type": "code",
        "outputId": "26e82622-1986-407f-b11c-7b64911aba91",
        "colab": {
          "base_uri": "https://localhost:8080/",
          "height": 54
        }
      },
      "source": [
        "#Let's check the model performance\n",
        "print('Training Accuracy : ' , np.mean(model_output.history[\"acc\"]))\n",
        "print('Validation Accuracy : ' , np.mean(model_output.history[\"val_acc\"]))"
      ],
      "execution_count": 0,
      "outputs": [
        {
          "output_type": "stream",
          "text": [
            "Training Accuracy :  0.9291456705776915\n",
            "Validation Accuracy :  0.9555773978078101\n"
          ],
          "name": "stdout"
        }
      ]
    },
    {
      "cell_type": "code",
      "metadata": {
        "id": "cIod2oxhBVfi",
        "colab_type": "code",
        "outputId": "d1c26fc6-1dfd-4c49-b360-0ba5113b0852",
        "colab": {
          "base_uri": "https://localhost:8080/",
          "height": 573
        }
      },
      "source": [
        "#Let's visualise our model performance\n",
        "\n",
        "# Plot training & validation accuracy values\n",
        "plt.plot(model_output.history['acc'])\n",
        "plt.plot(model_output.history['val_acc'])\n",
        "plt.title('Model accuracy')\n",
        "plt.ylabel('Accuracy')\n",
        "plt.xlabel('Epoch')\n",
        "plt.legend(['Train', 'Test'], loc='upper left')\n",
        "plt.show()\n",
        "\n",
        "# Plot training & validation loss values\n",
        "plt.plot(model_output.history['loss'])\n",
        "plt.plot(model_output.history['val_loss'])\n",
        "plt.title('model_output loss')\n",
        "plt.ylabel('Loss')\n",
        "plt.xlabel('Epoch')\n",
        "plt.legend(['Train', 'Test'], loc='upper left')\n",
        "plt.show()"
      ],
      "execution_count": 0,
      "outputs": [
        {
          "output_type": "display_data",
          "data": {
            "image/png": "[encoded data removed]",
            "text/plain": [
              "<Figure size 432x288 with 1 Axes>"
            ]
          },
          "metadata": {
            "tags": []
          }
        },
        {
          "output_type": "display_data",
          "data": {
            "image/png": "[encoded data removed]",
            "text/plain": [
              "<Figure size 432x288 with 1 Axes>"
            ]
          },
          "metadata": {
            "tags": []
          }
        }
      ]
    },
    {
      "cell_type": "code",
      "metadata": {
        "id": "ve_eVaGzBYNe",
        "colab_type": "code",
        "colab": {}
      },
      "source": [
        "y_pred = model.predict(x_test)\n",
        "rounded = [round(x[0]) for x in y_pred]\n",
        "y_pred1 = np.array(rounded,dtype='int64')"
      ],
      "execution_count": 0,
      "outputs": []
    },
    {
      "cell_type": "code",
      "metadata": {
        "id": "OjXTll0KHe4X",
        "colab_type": "code",
        "outputId": "11d23450-877e-45ff-d398-fb0e31ce0964",
        "colab": {
          "base_uri": "https://localhost:8080/",
          "height": 54
        }
      },
      "source": [
        "confusion_matrix(y_test,y_pred1)"
      ],
      "execution_count": 0,
      "outputs": [
        {
          "output_type": "execute_result",
          "data": {
            "text/plain": [
              "array([[201,   0],\n",
              "       [  2, 204]])"
            ]
          },
          "metadata": {
            "tags": []
          },
          "execution_count": 24
        }
      ]
    },
    {
      "cell_type": "code",
      "metadata": {
        "id": "X3HzT88_HhWi",
        "colab_type": "code",
        "outputId": "a6acc114-d034-44ca-bdfb-45d0b22bbe26",
        "colab": {
          "base_uri": "https://localhost:8080/",
          "height": 35
        }
      },
      "source": [
        "precision_score(y_test,y_pred1)"
      ],
      "execution_count": 0,
      "outputs": [
        {
          "output_type": "execute_result",
          "data": {
            "text/plain": [
              "1.0"
            ]
          },
          "metadata": {
            "tags": []
          },
          "execution_count": 25
        }
      ]
    },
    {
      "cell_type": "code",
      "metadata": {
        "id": "xOFqfq13LX1C",
        "colab_type": "code",
        "colab": {}
      },
      "source": [
        "from sklearn.metrics import accuracy_score\n",
        "from sklearn.metrics import precision_score\n",
        "from sklearn.metrics import recall_score\n",
        "from sklearn.metrics import f1_score"
      ],
      "execution_count": 0,
      "outputs": []
    },
    {
      "cell_type": "code",
      "metadata": {
        "id": "KtJFXaCtJJqT",
        "colab_type": "code",
        "outputId": "780b3495-f6a3-4bd2-a832-472d19a3eaad",
        "colab": {
          "base_uri": "https://localhost:8080/",
          "height": 90
        }
      },
      "source": [
        "# accuracy: (tp + tn) / (p + n)\n",
        "accuracy = accuracy_score(y_test,y_pred1)\n",
        "print('Accuracy: %f' % accuracy)\n",
        "# precision tp / (tp + fp)\n",
        "precision = precision_score(y_test,y_pred1)\n",
        "print('Precision: %f' % precision)\n",
        "# recall: tp / (tp + fn)\n",
        "recall = recall_score(y_test,y_pred1)\n",
        "print('Recall: %f' % recall)\n",
        "# f1: 2 tp / (2 tp + fp + fn)\n",
        "f1 = f1_score(y_test,y_pred1)\n",
        "print('F1 score: %f' % f1)"
      ],
      "execution_count": 0,
      "outputs": [
        {
          "output_type": "stream",
          "text": [
            "Accuracy: 0.995086\n",
            "Precision: 1.000000\n",
            "Recall: 0.990291\n",
            "F1 score: 0.995122\n"
          ],
          "name": "stdout"
        }
      ]
    },
    {
      "cell_type": "code",
      "metadata": {
        "id": "LRSP6CMyK1KK",
        "colab_type": "code",
        "colab": {}
      },
      "source": [
        "model.save(\"Calssifier.h5\")"
      ],
      "execution_count": 0,
      "outputs": []
    },
    {
      "cell_type": "code",
      "metadata": {
        "id": "aVKiD52fL0dG",
        "colab_type": "code",
        "colab": {}
      },
      "source": [
        ""
      ],
      "execution_count": 0,
      "outputs": []
    }
  ]
}